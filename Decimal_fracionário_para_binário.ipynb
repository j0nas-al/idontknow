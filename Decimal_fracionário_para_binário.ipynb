{
  "nbformat": 4,
  "nbformat_minor": 0,
  "metadata": {
    "colab": {
      "name": "Decimal fracionário para binário.ipynb",
      "provenance": [],
      "authorship_tag": "ABX9TyNVNzZs77+HZZl3Yr6xMcC1",
      "include_colab_link": true
    },
    "kernelspec": {
      "name": "python3",
      "display_name": "Python 3"
    }
  },
  "cells": [
    {
      "cell_type": "markdown",
      "metadata": {
        "id": "view-in-github",
        "colab_type": "text"
      },
      "source": [
        "<a href=\"https://colab.research.google.com/github/j0nas-al/idontknow/blob/main/Decimal_fracion%C3%A1rio_para_bin%C3%A1rio.ipynb\" target=\"_parent\"><img src=\"https://colab.research.google.com/assets/colab-badge.svg\" alt=\"Open In Colab\"/></a>"
      ]
    },
    {
      "cell_type": "code",
      "metadata": {
        "id": "jb_6II3nrp_g",
        "outputId": "8b33b5b6-f62c-4b6e-c06c-a5bfe3c5ac6e",
        "colab": {
          "base_uri": "https://localhost:8080/"
        }
      },
      "source": [
        "def dectobin(decimal):\n",
        "    intbin = []\n",
        "    partefrac = decimal - int(decimal)\n",
        "    parteint = int(decimal)\n",
        "    while parteint != 0:\n",
        "        if parteint % 2 == 0:\n",
        "            intbin.append('0')\n",
        "        else:\n",
        "            intbin.append('1')\n",
        "        parteint //= 2\n",
        "    conc = ''\n",
        "    intbin = intbin[::-1]\n",
        "    intbin = conc.join(intbin)\n",
        "\n",
        "\n",
        "    decbin = []\n",
        "    while partefrac != 1:#separando a parte fracionaria da parte decimal e multiplicando ela por 2 e depois adicionando na lista bindec\n",
        "        partefrac = partefrac - int(partefrac)\n",
        "        partefrac *= 2\n",
        "        decbin.append(str(partefrac)[0])\n",
        "    conc = ''#concatenando os binários da lista bindec\n",
        "    decbin = conc.join((decbin))\n",
        "\n",
        "    print(f'O número fracionário decimal {decimal} convertido para binário é igual a {intbin + \",\" + decbin}.')\n",
        "\n",
        "\n",
        "dectobin(4.8)"
      ],
      "execution_count": 1,
      "outputs": [
        {
          "output_type": "stream",
          "text": [
            "O número fracionário decimal 4.8 convertido para binário é igual a 100,11001100110011001100110011001100110011001100110011.\n"
          ],
          "name": "stdout"
        }
      ]
    }
  ]
}