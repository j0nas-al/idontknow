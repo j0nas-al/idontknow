{
  "nbformat": 4,
  "nbformat_minor": 0,
  "metadata": {
    "colab": {
      "name": "Binário fracionário para decimal.ipynb",
      "provenance": [],
      "authorship_tag": "ABX9TyOLvPDJLFTcSX4Mc1A+CVbX",
      "include_colab_link": true
    },
    "kernelspec": {
      "name": "python3",
      "display_name": "Python 3"
    }
  },
  "cells": [
    {
      "cell_type": "markdown",
      "metadata": {
        "id": "view-in-github",
        "colab_type": "text"
      },
      "source": [
        "<a href=\"https://colab.research.google.com/github/j0nas-al/idontknow/blob/main/Bin%C3%A1rio_fracion%C3%A1rio_para_decimal.ipynb\" target=\"_parent\"><img src=\"https://colab.research.google.com/assets/colab-badge.svg\" alt=\"Open In Colab\"/></a>"
      ]
    },
    {
      "cell_type": "code",
      "metadata": {
        "id": "T6rDBG5Xs0AQ",
        "outputId": "1b121e8c-53e7-450b-ce43-2e43d8ef846a",
        "colab": {
          "base_uri": "https://localhost:8080/"
        }
      },
      "source": [
        "def bintodec(binario):\n",
        "    partint = int(binario)\n",
        "    partdec = []\n",
        "    for i in range(0, len(str(binario))):\n",
        "        pontopos = str(binario).index('.')\n",
        "        if i > pontopos:\n",
        "            partdec.append(str(binario)[i])\n",
        "\n",
        "    allint = []\n",
        "    for c in range(0, len(str(partint))):\n",
        "        allint.append(str(partint)[c])\n",
        "    allint = allint[::-1]\n",
        "\n",
        "    for n in range(0, len(allint)):\n",
        "        allint[n] = 2**n * int(allint[n])\n",
        "    allint = sum(allint)\n",
        "\n",
        "\n",
        "    posi = []\n",
        "    for v in range(1, len(partdec)+1):\n",
        "        posi.append(-v)\n",
        "\n",
        "    alldec = []\n",
        "    for x in range(0, len(partdec)):\n",
        "        alldec.append(2**posi[x] * int(partdec[x]))\n",
        "    alldec = sum(alldec)\n",
        "\n",
        "    print(f'O binário fracinário {binario} convertido para decimal é igual a {allint + alldec}.')\n",
        "\n",
        "\n",
        "\n",
        "bintodec(111.001)"
      ],
      "execution_count": 2,
      "outputs": [
        {
          "output_type": "stream",
          "text": [
            "O binário fracinário 111.001 convertido para decimal é igual a 7.125.\n"
          ],
          "name": "stdout"
        }
      ]
    }
  ]
}