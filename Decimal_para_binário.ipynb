{
  "nbformat": 4,
  "nbformat_minor": 0,
  "metadata": {
    "colab": {
      "name": "Decimal para binário.ipynb",
      "provenance": [],
      "authorship_tag": "ABX9TyMmec3WoHKaEpFIZtVVB/eK",
      "include_colab_link": true
    },
    "kernelspec": {
      "name": "python3",
      "display_name": "Python 3"
    }
  },
  "cells": [
    {
      "cell_type": "markdown",
      "metadata": {
        "id": "view-in-github",
        "colab_type": "text"
      },
      "source": [
        "<a href=\"https://colab.research.google.com/github/j0nas-al/idontknow/blob/main/Decimal_para_bin%C3%A1rio.ipynb\" target=\"_parent\"><img src=\"https://colab.research.google.com/assets/colab-badge.svg\" alt=\"Open In Colab\"/></a>"
      ]
    },
    {
      "cell_type": "code",
      "metadata": {
        "id": "V92QLSpOp_Bo",
        "outputId": "66f344b3-1b52-4e65-ece1-f6ab023bed1a",
        "colab": {
          "base_uri": "https://localhost:8080/"
        }
      },
      "source": [
        "def dectobin(decimal):\n",
        "    total = []\n",
        "    conc = ''\n",
        "    save = decimal\n",
        "    while decimal != 0:\n",
        "        if decimal % 2 == 0:\n",
        "            total.append('0')\n",
        "        else:\n",
        "            total.append('1')\n",
        "        decimal //= 2\n",
        "    total = total[::-1]\n",
        "    total = conc.join(total)\n",
        "    print(f'O número {save} em binário é igual a {total}.')\n",
        "\n",
        "dectobin(17)"
      ],
      "execution_count": 5,
      "outputs": [
        {
          "output_type": "stream",
          "text": [
            "O número 17 em binário é igual a 10001.\n"
          ],
          "name": "stdout"
        }
      ]
    }
  ]
}