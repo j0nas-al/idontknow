{
  "nbformat": 4,
  "nbformat_minor": 0,
  "metadata": {
    "colab": {
      "name": "Binário para decimal.ipynb",
      "provenance": [],
      "authorship_tag": "ABX9TyMsdNBYPqw6GZLc9KWGOpS7",
      "include_colab_link": true
    },
    "kernelspec": {
      "name": "python3",
      "display_name": "Python 3"
    }
  },
  "cells": [
    {
      "cell_type": "markdown",
      "metadata": {
        "id": "view-in-github",
        "colab_type": "text"
      },
      "source": [
        "<a href=\"https://colab.research.google.com/github/j0nas-al/idontknow/blob/main/Bin%C3%A1rio_para_decimal.ipynb\" target=\"_parent\"><img src=\"https://colab.research.google.com/assets/colab-badge.svg\" alt=\"Open In Colab\"/></a>"
      ]
    },
    {
      "cell_type": "code",
      "metadata": {
        "id": "H_uEbSCIo5ky",
        "outputId": "ff709e1d-8557-4217-f61a-735cc8fb1675",
        "colab": {
          "base_uri": "https://localhost:8080/"
        }
      },
      "source": [
        "def bintodec(binario):\n",
        "\n",
        "    num = []\n",
        "    for n in range(0, len(binario)):\n",
        "        num.append(binario[n])\n",
        "    num = num[::-1]\n",
        "\n",
        "    total = 0\n",
        "    for c in range(0, len(num)):\n",
        "        total += (2**c) * int(num[c])\n",
        "    print(f'O número binário {binario} em decimal é igual a {total}.')\n",
        "\n",
        "\n",
        "bintodec('1100110001')"
      ],
      "execution_count": 5,
      "outputs": [
        {
          "output_type": "stream",
          "text": [
            "O número binário 1100110001 em decimal é igual a 817.\n"
          ],
          "name": "stdout"
        }
      ]
    }
  ]
}