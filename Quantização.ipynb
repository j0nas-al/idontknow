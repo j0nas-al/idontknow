{
  "nbformat": 4,
  "nbformat_minor": 0,
  "metadata": {
    "colab": {
      "name": "Quantização.ipynb",
      "provenance": [],
      "authorship_tag": "ABX9TyPoq90Pm/tnAXz0Wz/jGDB3",
      "include_colab_link": true
    },
    "kernelspec": {
      "name": "python3",
      "display_name": "Python 3"
    }
  },
  "cells": [
    {
      "cell_type": "markdown",
      "metadata": {
        "id": "view-in-github",
        "colab_type": "text"
      },
      "source": [
        "<a href=\"https://colab.research.google.com/github/j0nas-al/idontknow/blob/main/Quantiza%C3%A7%C3%A3o.ipynb\" target=\"_parent\"><img src=\"https://colab.research.google.com/assets/colab-badge.svg\" alt=\"Open In Colab\"/></a>"
      ]
    },
    {
      "cell_type": "code",
      "metadata": {
        "id": "wNVhfjVTmwp5",
        "outputId": "1fac9ca0-0d44-4252-c1a0-72b19acfa437",
        "colab": {
          "base_uri": "https://localhost:8080/"
        }
      },
      "source": [
        "def TabelaVerdade(bits, resp):\n",
        "    #a lista fulldec vai receber os valores de 0 até o parâmetro\n",
        "    fulldec = []\n",
        "    for n in range(0, bits):\n",
        "        fulldec.append(n)\n",
        "\n",
        "    #transformando os valores da lista fulldec em binário e adicionando em fullbin\n",
        "    fullbin = []\n",
        "    for c in range(0, len(fulldec)):\n",
        "        save = ''\n",
        "        if fulldec[c] == 0:\n",
        "            save = '0'\n",
        "        while fulldec[c] > 0:\n",
        "            if fulldec[c] % 2 == 0:\n",
        "                save += '0'\n",
        "            else:\n",
        "                save += '1'\n",
        "            fulldec[c] //= 2\n",
        "        fullbin.append(save)\n",
        "        fullbin[c] = fullbin[c][::-1] #invertendo os binários para ficarem na ordem correta\n",
        "\n",
        "    #ajustando os valores de fullbin para todos ficarem com a mesma quantidade de números\n",
        "    zeros = ''\n",
        "    for p in range(0, len(fullbin)):\n",
        "        bits = len(fullbin[-1]) - len(fullbin[p])\n",
        "        zeros = bits * '0'\n",
        "        if len(zeros) > 0:\n",
        "            fullbin[p] = zeros + fullbin[p]\n",
        "        if resp.upper() == 'SIM':\n",
        "            print(fullbin[p])\n",
        "        elif resp.upper() == 'NÃO':\n",
        "            return len(fullbin[-1])\n",
        "\n",
        "nivel = int(input('Insira o nível de quantização: '))\n",
        "print(f'É necessario {TabelaVerdade(nivel, \"não\")} bits para este nível de quantização.')\n",
        "print('As combinações são:')\n",
        "TabelaVerdade(nivel, \"sim\")"
      ],
      "execution_count": 3,
      "outputs": [
        {
          "output_type": "stream",
          "text": [
            "Insira o nível de quantização: 8\n",
            "É necessario 3 bits para este nível de quantização.\n",
            "As combinações são:\n",
            "000\n",
            "001\n",
            "010\n",
            "011\n",
            "100\n",
            "101\n",
            "110\n",
            "111\n"
          ],
          "name": "stdout"
        }
      ]
    }
  ]
}